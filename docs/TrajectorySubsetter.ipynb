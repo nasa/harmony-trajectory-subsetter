{
 "cells": [
  {
   "cell_type": "markdown",
   "id": "75bebdb3",
   "metadata": {},
   "source": [
    "# Segmented Trajectory Subsetter documentation and examples:\n",
    "\n",
    "### Contact:\n",
    "\n",
    "**Slack:** #sds, #harmony-service-providers\n",
    "\n",
    "**Email:** david.p.auty@nasa.gov, owen.m.littlejohns@nasa.gov.\n",
    "\n",
    "The scope of this notebook is to demonstrate the capabilities the Segmented Trajectory Subsetter.\n",
    "\n",
    "### Capabilities:\n",
    "\n",
    "* Variable subsetting.\n",
    "* Temporal subsetting.\n",
    "* Bounding box spatial subsetting.\n",
    "* Polygon spatial subsetting.\n",
    "\n",
    "### Distinctions from other services:\n",
    "\n",
    "* Works on trajectory, rather than swath data (1-D, usually with a time dimension).\n",
    "* Preserves continuity of photon segment indices.\n",
    "* Configured for Cloud-hosted GEDI L4A test collection.\n",
    "\n",
    "### Segmented trajectories:\n",
    "\n",
    "![](images/segmented_trajectory.png)\n",
    "\n",
    "**Figure 1:** Annotated image from Earthdata Search to illustrate segmented trajectory collections. The granule selected has a trajectory split into continuous segments. In the example above, the bounding box shows a spatial subset request that requires the removal of some of the segments. The output also will not be continuous and so the segments will need to be re-indexed to ensure the output contains continuous indices. (Note: Real trajectory segments are much shorter than those shown in this image)\n",
    "\n",
    "### Heritage:\n",
    "\n",
    "The Harmony service is a new, Python-based wrapper on the existing SDPS Trajectory Subsetter on-premises service. This \n",
    "on-premises service is underpinned by a C++ binary that is invoked via the EOSDIS Service Interface (ESI) and specific tool adapters. The Trajectory Subsetter has been used on-premises to support trajectory collections for missions such as SMAP and ICESat-2.\n",
    "\n",
    "### Architecture:\n",
    "\n",
    "Harmony, Python-based infrastructure replaces the ESI and tool adapters in the on-premises stack:\n",
    "\n",
    "![](images/TS_sequence_diagram.png)\n",
    "**Figure 2:** Sequence flow of the Trajectory Subsetter Harmony backend service. A Harmony request is received for a collection associated with that service. Harmony constructs a message and sends it to the Trajectory Subsetter. The `HarmonyAdapter` class within the backend service downloads the granule and then translates the Harmony message parameters into arguments for a call to the C++ binary. The C++ binary is invoked, with its output status captures, to ensure success. Finally, the transformed output is staged to S3.\n",
    "\n",
    "\n",
    "### Requirements\n",
    "\n",
    "* Trajectory data.\n",
    "* Cloud-hosted data (best ingested via Cumulus).\n",
    "* UMM-C and UMM-G records, again best created via Cumulus, including `GET DATA` related URL.\n",
    "* UMM-Var records associated with the collection.\n",
    "* A UMM-S record (for each production DAAC provider), with that UMM-S concept ID listed against the Trajectory Subsetter service in [services.yml](https://github.com/nasa/harmony/blob/main/config/services.yml).\n",
    "* Association between the UMM-C record(s) for your collection(s) and the UMM-S record.\n",
    "\n",
    "### Examples\n",
    "\n",
    "The following examples will use `harmony-py` (see: [here](https://github.com/nasa/harmony-py)) to make requests to Harmony. `harmony-py` is distributed via the Python Package Index ([PyPI](https://pypi.org/project/harmony-py/)), and can be installed to your current Python environment via Pip:\n",
    "\n",
    "```bash\n",
    "$ pip install harmony-py\n",
    "```\n",
    "\n",
    "Other Python packages used by this notebook (for evaluating output):\n",
    "\n",
    "* cartopy\n",
    "* matplotlib\n",
    "* netCDF4\n",
    "\n",
    "#### Initial set-up\n",
    "\n",
    "The following cell imports standard classes from `harmony-py` and establishes a client to make requests to the UAT environment of Harmony. It also sets up a collection instance for the GEDI L4A collection, as hosted in the EEDTEST provider (C1242267295-EEDTEST)."
   ]
  },
  {
   "cell_type": "markdown",
   "id": "ec99fe40",
   "metadata": {},
   "source": [
    "### Set up imports and variables"
   ]
  },
  {
   "cell_type": "code",
   "execution_count": null,
   "id": "2528d747",
   "metadata": {},
   "outputs": [],
   "source": [
    "from datetime import datetime\n",
    "from os import replace\n",
    "from os.path import exists\n",
    "from shutil import move\n",
    "\n",
    "from harmony import BBox, Client, Collection, Environment, Request\n",
    "from netCDF4 import Dataset\n",
    "import cartopy.crs as ccrs\n",
    "import cartopy.feature as cfeature\n",
    "import matplotlib.pyplot as plt\n",
    "\n",
    "\n",
    "gedi_l4a = Collection(id='C1242267295-EEDTEST')\n",
    "file_root_name = 'GEDI_L4A'\n",
    "variables = ['/BEAM0000/agbd']\n",
    "granule_id = 'G1242274838-EEDTEST'\n",
    "\n",
    "harmony_client = Client(env=Environment.UAT)"
   ]
  },
  {
   "cell_type": "markdown",
   "id": "8b97e2d7",
   "metadata": {},
   "source": [
    "### Helper functions:"
   ]
  },
  {
   "cell_type": "code",
   "execution_count": null,
   "id": "4048be84",
   "metadata": {},
   "outputs": [],
   "source": [
    "def print_all_variables(dataset):\n",
    "    \"\"\" A helper function to traverse all groups in a file and\n",
    "        print the variables present, along with their sizes.\n",
    "\n",
    "    \"\"\"\n",
    "    print('\\nVariables present:\\n')\n",
    "\n",
    "    for group in dataset.groups.values():\n",
    "        for variable in group.variables.values():\n",
    "            print(f'{group.path}/{variable.name}, {variable.shape}')\n",
    "\n",
    "    print('\\n')\n",
    "\n",
    "\n",
    "def get_geo_plot_fig_and_ax(extents):\n",
    "    \"\"\" A helper function to retrieve the figure and axes for a plot\n",
    "        showing landmasses, oceans and country borders.\n",
    "\n",
    "    \"\"\"\n",
    "    fig = plt.figure(figsize=(10,10))\n",
    "    ax = fig.add_subplot(1, 1, 1, projection=ccrs.PlateCarree())\n",
    "    ax.set_extent(extents, crs=ccrs.PlateCarree())\n",
    "    ax.add_feature(cfeature.LAND)\n",
    "    ax.add_feature(cfeature.OCEAN)\n",
    "    ax.add_feature(cfeature.COASTLINE)\n",
    "    ax.add_feature(cfeature.BORDERS, linestyle=':')\n",
    "    ax.add_feature(cfeature.LAKES, alpha=0.5)\n",
    "    ax.add_feature(cfeature.RIVERS)\n",
    "    return fig, ax"
   ]
  },
  {
   "cell_type": "markdown",
   "id": "99ba4ee8",
   "metadata": {},
   "source": [
    "### Variable subsetting:\n",
    "\n",
    "The GEDI L4A collection has granules that are at least 1 GB in size. The Trajectory Subsetter provides the capability to perform a variable subset, to reduce the size of the output product. The variable subset will include the requested variable:\n",
    "\n",
    "* `/BEAM0000/agbd`, above ground biomass density.\n",
    "\n",
    "As well as the added support variables:\n",
    "\n",
    "* `/BEAM0000/delta_time`, the temporal coordinate for the science variable.\n",
    "* `/BEAM0000/lat_lowestmode`, the latitude coordinate for the science variable.\n",
    "* `/BEAM0000/lon_lowestmode`, the longitude coordinate for the science variable.\n",
    "\n",
    "And configured ancillary variable:\n",
    "\n",
    "* `/BEAM0000/shot_number`, the shot number."
   ]
  },
  {
   "cell_type": "code",
   "execution_count": null,
   "id": "c6a038bb",
   "metadata": {},
   "outputs": [],
   "source": [
    "variable_subset_request = Request(collection=gedi_l4a, variables=variables, granule_id=[granule_id])\n",
    "variable_subset_job_id = harmony_client.submit(variable_subset_request)\n",
    "variable_local_file_name = f'{file_root_name}_variable.h5'\n",
    "\n",
    "print(f'Processing job: {variable_subset_job_id}')\n",
    "\n",
    "for filename in [file_future.result()\n",
    "                 for file_future\n",
    "                 in harmony_client.download_all(variable_subset_job_id, overwrite=True)]:\n",
    "    if filename.endswith('.h5'):\n",
    "        print(f'Downloaded: {filename}')\n",
    "        h5_filename = filename\n",
    "\n",
    "replace(h5_filename, variable_local_file_name)\n",
    "print(f'Saved output to: {variable_local_file_name}')"
   ]
  },
  {
   "cell_type": "markdown",
   "id": "33dd6183",
   "metadata": {},
   "source": [
    "### Checking the output:"
   ]
  },
  {
   "cell_type": "code",
   "execution_count": null,
   "id": "74561f44",
   "metadata": {},
   "outputs": [],
   "source": [
    "fig, ax = get_geo_plot_fig_and_ax([-180, 180, -90, 90])\n",
    "\n",
    "with Dataset(variable_local_file_name, 'r') as variable_dataset:\n",
    "    print_all_variables(variable_dataset)\n",
    "    variable_latitude = variable_dataset['/BEAM0000/lat_lowestmode'][:]\n",
    "    variable_longitude = variable_dataset['/BEAM0000/lon_lowestmode'][:]\n",
    "\n",
    "plt.plot(variable_longitude, variable_latitude, color='red', linewidth=2, transform=ccrs.Geodetic())"
   ]
  },
  {
   "cell_type": "markdown",
   "id": "a7dc0b5d",
   "metadata": {},
   "source": [
    "### Temporal subsetting:\n",
    "\n",
    "The Trajectory Subsetter accepts a single temporal range. In the request below, the temporal subset has been combined with a variable subset to maintain a small output product.\n",
    "\n",
    "The temporal range specified is from 2020-07-25T01:00:00 to 2020-07-25T02:00:00.\n",
    "\n",
    "The full temporal range of the granule is 2020-07-25T01:22:56 to 2020-07-25T02:55:47, so the expected output from the temporal subset should be approximately the first third of the data."
   ]
  },
  {
   "cell_type": "code",
   "execution_count": null,
   "id": "119ef121",
   "metadata": {},
   "outputs": [],
   "source": [
    "temporal_range = {'start': datetime(2020, 7, 25, 1, 0, 0), 'stop': datetime(2020, 7, 25, 2, 0, 0)}\n",
    "\n",
    "temporal_subset_request = Request(collection=gedi_l4a, temporal=temporal_range,\n",
    "                                  variables=variables, granule_id=[granule_id])\n",
    "temporal_subset_job_id = harmony_client.submit(temporal_subset_request)\n",
    "temporal_local_file_name = f'{file_root_name}_temporal.h5'\n",
    "\n",
    "print(f'Processing job: {temporal_subset_job_id}')\n",
    "\n",
    "for filename in [file_future.result()\n",
    "                 for file_future\n",
    "                 in harmony_client.download_all(temporal_subset_job_id, overwrite=True)]:\n",
    "    if filename.endswith('.h5'):\n",
    "        print(f'Downloaded: {filename}')\n",
    "        h5_filename = filename\n",
    "\n",
    "replace(h5_filename, temporal_local_file_name)\n",
    "print(f'Saved output to: {temporal_local_file_name}')"
   ]
  },
  {
   "cell_type": "markdown",
   "id": "f98da854",
   "metadata": {},
   "source": [
    "### Checking the output:"
   ]
  },
  {
   "cell_type": "code",
   "execution_count": null,
   "id": "b733ec3a",
   "metadata": {},
   "outputs": [],
   "source": [
    "fig, ax = get_geo_plot_fig_and_ax([-180, 180, -90, 90])\n",
    "\n",
    "with Dataset(temporal_local_file_name, 'r') as temporal_dataset:\n",
    "    print_all_variables(temporal_dataset)\n",
    "    temporal_latitude = temporal_dataset['/BEAM0000/lat_lowestmode'][:]\n",
    "    temporal_longitude = temporal_dataset['/BEAM0000/lon_lowestmode'][:]\n",
    "\n",
    "plt.plot(temporal_longitude, temporal_latitude, color='red', linewidth=2, transform=ccrs.Geodetic())"
   ]
  },
  {
   "cell_type": "markdown",
   "id": "594ae34a",
   "metadata": {},
   "source": [
    "### Bounding box spatial subsetting:\n",
    "\n",
    "The Trajectory Subsetter accepts a single bounding box. The request below combines a bounding box with a variable subset to maintain a small output product.\n",
    "\n",
    "The bounding box specified is:\n",
    "\n",
    "* 45 ≤ latitude (degrees north) ≤ 55\n",
    "* -120 ≤ longitude (degrees east) ≤ -100\n",
    "\n",
    "Things to check in output:\n",
    "\n",
    "* The four requested variables are present in the output.\n",
    "* The variables all have the same size, which should be smaller than the variable subset only.\n",
    "* The `/BEAM0000/lat_lowestmode` only has values in the range of the bounding box.\n",
    "* The `/BEAM0000/lon_lowestmode` only has values in the range of the bounding box."
   ]
  },
  {
   "cell_type": "code",
   "execution_count": null,
   "id": "138340c1",
   "metadata": {},
   "outputs": [],
   "source": [
    "bounding_box = BBox(w=-120, s=45, e=-100, n=55)\n",
    "\n",
    "bbox_subset_request = Request(collection=gedi_l4a, spatial=bounding_box,\n",
    "                              granule_id=[granule_id], variables=variables)\n",
    "bbox_subset_job_id = harmony_client.submit(bbox_subset_request)\n",
    "bbox_local_file_name = f'{file_root_name}_bbox.h5'\n",
    "\n",
    "print(f'Processing job: {bbox_subset_job_id}')\n",
    "\n",
    "for filename in [file_future.result()\n",
    "                 for file_future\n",
    "                 in harmony_client.download_all(bbox_subset_job_id, overwrite=True)]:\n",
    "    if filename.endswith('.h5'):\n",
    "        print(f'Downloaded: {filename}')\n",
    "        h5_filename = filename\n",
    "\n",
    "replace(h5_filename, bbox_local_file_name)\n",
    "print(f'Saved output to: {bbox_local_file_name}')"
   ]
  },
  {
   "cell_type": "markdown",
   "id": "9acb1cb8",
   "metadata": {},
   "source": [
    "### Checking the results"
   ]
  },
  {
   "cell_type": "code",
   "execution_count": null,
   "id": "4d4fd7d8",
   "metadata": {},
   "outputs": [],
   "source": [
    "fig, ax = get_geo_plot_fig_and_ax([-130, -90, 35, 65])\n",
    "\n",
    "with Dataset(bbox_local_file_name, 'r') as bbox_dataset:\n",
    "    print_all_variables(bbox_dataset)\n",
    "    bbox_latitude = bbox_dataset['/BEAM0000/lat_lowestmode'][:]\n",
    "    bbox_longitude = bbox_dataset['/BEAM0000/lon_lowestmode'][:]\n",
    "\n",
    "bbox_longitudes = [bounding_box.w, bounding_box.w, bounding_box.e, bounding_box.e, bounding_box.w]\n",
    "bbox_latitudes = [bounding_box.s, bounding_box.n, bounding_box.n, bounding_box.s, bounding_box.s]\n",
    "\n",
    "plt.plot(bbox_longitudes, bbox_latitudes, color='green', linewidth=2, transform=ccrs.Geodetic())\n",
    "plt.plot(bbox_longitude, bbox_latitude, color='red', linewidth=2, transform=ccrs.Geodetic())"
   ]
  },
  {
   "cell_type": "markdown",
   "id": "35fe6277",
   "metadata": {},
   "source": [
    "### Polygon spatial subsetting:\n",
    "\n",
    "The Trajectory Subsetter accepts a GeoJSON shape file, instructing it to perform polygon spatial subsetting. The request below combines a polygon of Egypt with a variable subset to maintain a small output product.\n",
    "\n",
    "Things to check in the output:\n",
    "\n",
    "* The four requested variables are present in the output.\n",
    "* The variables all have the same size, which should be smaller than the variable subset only.\n",
    "* The `/BEAM0000/lat_lowestmode` only has values in the range of the polygon.\n",
    "* The `/BEAM0000/lon_lowestmode` only has values in the range of the polygon."
   ]
  },
  {
   "cell_type": "code",
   "execution_count": null,
   "id": "e91f5247",
   "metadata": {},
   "outputs": [],
   "source": [
    "egypt_granule_id = 'G1242274852-EEDTEST'\n",
    "\n",
    "polygon_subset_request = Request(collection=gedi_l4a, granule_id=[egypt_granule_id],\n",
    "                                 variables=variables, shape='EGY.geo.json')\n",
    "polygon_subset_job_id = harmony_client.submit(polygon_subset_request)\n",
    "polygon_local_file_name = f'{file_root_name}_polygon.h5'\n",
    "\n",
    "\n",
    "print(f'Processing job: {polygon_subset_job_id}')\n",
    "\n",
    "for filename in [file_future.result()\n",
    "                 for file_future\n",
    "                 in harmony_client.download_all(polygon_subset_job_id, overwrite=True)]:\n",
    "    if filename.endswith('.h5'):\n",
    "        print(f'Downloaded: {filename}')\n",
    "        h5_filename = filename\n",
    "\n",
    "replace(h5_filename, polygon_local_file_name)\n",
    "print(f'Saved output to: {polygon_local_file_name}')"
   ]
  },
  {
   "cell_type": "markdown",
   "id": "077a4726",
   "metadata": {},
   "source": [
    "### Checking the output:"
   ]
  },
  {
   "cell_type": "code",
   "execution_count": null,
   "id": "da1030ff",
   "metadata": {
    "scrolled": true
   },
   "outputs": [],
   "source": [
    "fig, ax = get_geo_plot_fig_and_ax([20, 40, 19, 35])\n",
    "\n",
    "with Dataset(polygon_local_file_name, 'r') as polygon_dataset:\n",
    "    print_all_variables(polygon_dataset)\n",
    "    polygon_latitude = polygon_dataset['/BEAM0000/lat_lowestmode'][:]\n",
    "    polygon_longitude = polygon_dataset['/BEAM0000/lon_lowestmode'][:]\n",
    "\n",
    "plt.plot(polygon_longitude, polygon_latitude, color='red', linewidth=2, transform=ccrs.Geodetic())"
   ]
  }
 ],
 "metadata": {
  "kernelspec": {
   "display_name": "Python 3 (ipykernel)",
   "language": "python",
   "name": "python3"
  },
  "language_info": {
   "codemirror_mode": {
    "name": "ipython",
    "version": 3
   },
   "file_extension": ".py",
   "mimetype": "text/x-python",
   "name": "python",
   "nbconvert_exporter": "python",
   "pygments_lexer": "ipython3",
   "version": "3.10.12"
  }
 },
 "nbformat": 4,
 "nbformat_minor": 5
}
